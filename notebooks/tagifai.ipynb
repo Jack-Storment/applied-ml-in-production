{
 "cells": [
  {
   "cell_type": "markdown",
   "metadata": {},
   "source": [
    "# Applied ML in Production"
   ]
  },
  {
   "cell_type": "markdown",
   "metadata": {},
   "source": [
    "## Annotation"
   ]
  },
  {
   "cell_type": "code",
   "execution_count": 1,
   "metadata": {},
   "outputs": [],
   "source": [
    "from collections import Counter, OrderedDict\n",
    "import ipywidgets as widgets\n",
    "import itertools\n",
    "import json\n",
    "import pandas as pd\n",
    "from urllib.request import urlopen"
   ]
  },
  {
   "cell_type": "code",
   "execution_count": 2,
   "metadata": {},
   "outputs": [
    {
     "name": "stdout",
     "output_type": "stream",
     "text": [
      "{\n",
      "  \"id\": 324,\n",
      "  \"title\": \"AdverTorch\",\n",
      "  \"description\": \"A Toolbox for Adversarial Robustness Research\",\n",
      "  \"tags\": [\n",
      "    \"code\",\n",
      "    \"library\",\n",
      "    \"security\",\n",
      "    \"adversarial-learning\",\n",
      "    \"adversarial-attacks\",\n",
      "    \"adversarial-perturbations\"\n",
      "  ]\n",
      "}\n"
     ]
    }
   ],
   "source": [
    "# Load projects\n",
    "url = \"https://raw.githubusercontent.com/madewithml/datasets/main/projects.json\"\n",
    "projects = json.loads(urlopen(url).read())\n",
    "print (json.dumps(projects[-305], indent=2))"
   ]
  },
  {
   "cell_type": "code",
   "execution_count": 3,
   "metadata": {},
   "outputs": [
    {
     "name": "stdout",
     "output_type": "stream",
     "text": [
      "400 tags\n"
     ]
    }
   ],
   "source": [
    "# Load tags\n",
    "url = \"https://raw.githubusercontent.com/madewithml/datasets/main/tags.json\"\n",
    "tags_dict = OrderedDict(json.loads(urlopen(url).read()))\n",
    "print (f\"{len(tags_dict)} tags\")"
   ]
  },
  {
   "cell_type": "code",
   "execution_count": 4,
   "metadata": {},
   "outputs": [
    {
     "data": {
      "application/vnd.jupyter.widget-view+json": {
       "model_id": "6b78952334f44c6883500af8903a8894",
       "version_major": 2,
       "version_minor": 0
      },
      "text/plain": [
       "interactive(children=(Dropdown(description='tag', index=283, options=('3d', 'action-localization', 'action-rec…"
      ]
     },
     "metadata": {},
     "output_type": "display_data"
    }
   ],
   "source": [
    "@widgets.interact(tag=list(tags_dict.keys()))\n",
    "def display_tag_details(tag='question-answering'):\n",
    "    print (json.dumps(tags_dict[tag], indent=2))"
   ]
  },
  {
   "cell_type": "code",
   "execution_count": 5,
   "metadata": {},
   "outputs": [
    {
     "name": "stdout",
     "output_type": "stream",
     "text": [
      "2032 projects\n"
     ]
    },
    {
     "data": {
      "text/html": [
       "<div>\n",
       "<style scoped>\n",
       "    .dataframe tbody tr th:only-of-type {\n",
       "        vertical-align: middle;\n",
       "    }\n",
       "\n",
       "    .dataframe tbody tr th {\n",
       "        vertical-align: top;\n",
       "    }\n",
       "\n",
       "    .dataframe thead th {\n",
       "        text-align: right;\n",
       "    }\n",
       "</style>\n",
       "<table border=\"1\" class=\"dataframe\">\n",
       "  <thead>\n",
       "    <tr style=\"text-align: right;\">\n",
       "      <th></th>\n",
       "      <th>id</th>\n",
       "      <th>title</th>\n",
       "      <th>description</th>\n",
       "      <th>tags</th>\n",
       "    </tr>\n",
       "  </thead>\n",
       "  <tbody>\n",
       "    <tr>\n",
       "      <th>0</th>\n",
       "      <td>2438</td>\n",
       "      <td>How to Deal with Files in Google Colab: What Y...</td>\n",
       "      <td>How to supercharge your Google Colab experienc...</td>\n",
       "      <td>[article, google-colab, colab, file-system]</td>\n",
       "    </tr>\n",
       "    <tr>\n",
       "      <th>1</th>\n",
       "      <td>2437</td>\n",
       "      <td>Rasoee</td>\n",
       "      <td>A powerful web and mobile application that ide...</td>\n",
       "      <td>[api, article, code, dataset, paper, research,...</td>\n",
       "    </tr>\n",
       "    <tr>\n",
       "      <th>2</th>\n",
       "      <td>2436</td>\n",
       "      <td>Machine Learning Methods Explained (+ Examples)</td>\n",
       "      <td>Most common techniques used in data science pr...</td>\n",
       "      <td>[article, deep-learning, machine-learning, dim...</td>\n",
       "    </tr>\n",
       "    <tr>\n",
       "      <th>3</th>\n",
       "      <td>2435</td>\n",
       "      <td>Top “Applied Data Science” Papers from ECML-PK...</td>\n",
       "      <td>Explore the innovative world of Machine Learni...</td>\n",
       "      <td>[article, deep-learning, machine-learning, adv...</td>\n",
       "    </tr>\n",
       "    <tr>\n",
       "      <th>4</th>\n",
       "      <td>2434</td>\n",
       "      <td>OpenMMLab Computer Vision</td>\n",
       "      <td>MMCV is a python library for CV research and s...</td>\n",
       "      <td>[article, code, pytorch, library, 3d, computer...</td>\n",
       "    </tr>\n",
       "  </tbody>\n",
       "</table>\n",
       "</div>"
      ],
      "text/plain": [
       "     id                                              title  \\\n",
       "0  2438  How to Deal with Files in Google Colab: What Y...   \n",
       "1  2437                                             Rasoee   \n",
       "2  2436    Machine Learning Methods Explained (+ Examples)   \n",
       "3  2435  Top “Applied Data Science” Papers from ECML-PK...   \n",
       "4  2434                          OpenMMLab Computer Vision   \n",
       "\n",
       "                                         description  \\\n",
       "0  How to supercharge your Google Colab experienc...   \n",
       "1  A powerful web and mobile application that ide...   \n",
       "2  Most common techniques used in data science pr...   \n",
       "3  Explore the innovative world of Machine Learni...   \n",
       "4  MMCV is a python library for CV research and s...   \n",
       "\n",
       "                                                tags  \n",
       "0        [article, google-colab, colab, file-system]  \n",
       "1  [api, article, code, dataset, paper, research,...  \n",
       "2  [article, deep-learning, machine-learning, dim...  \n",
       "3  [article, deep-learning, machine-learning, adv...  \n",
       "4  [article, code, pytorch, library, 3d, computer...  "
      ]
     },
     "execution_count": 5,
     "metadata": {},
     "output_type": "execute_result"
    }
   ],
   "source": [
    "# Create dataframe\n",
    "df = pd.DataFrame(projects)\n",
    "print (f\"{len(df)} projects\")\n",
    "df.head(5)"
   ]
  },
  {
   "cell_type": "code",
   "execution_count": 6,
   "metadata": {},
   "outputs": [],
   "source": [
    "# Input\n",
    "df['text'] = df.title + \" \" + df.description"
   ]
  },
  {
   "cell_type": "code",
   "execution_count": 7,
   "metadata": {},
   "outputs": [],
   "source": [
    "def filter(l, include=[], exclude=[]):\n",
    "    \"\"\"Filter a list using inclusion and exclusion lists of items.\"\"\"\n",
    "    filtered = [item for item in l if item in include and item not in exclude]\n",
    "    return filtered"
   ]
  },
  {
   "cell_type": "code",
   "execution_count": 8,
   "metadata": {},
   "outputs": [],
   "source": [
    "# Inclusion/exclusion criteria for tags\n",
    "include = list(tags_dict.keys())\n",
    "exclude = ['machine-learning', 'deep-learning',  'data-science',\n",
    "           'neural-networks', 'python', 'r', 'visualization',\n",
    "           'natural-language-processing', 'computer-vision']"
   ]
  },
  {
   "cell_type": "code",
   "execution_count": 9,
   "metadata": {},
   "outputs": [],
   "source": [
    "# Filter tags for each project\n",
    "df.tags = df.tags.apply(filter, include=include, exclude=exclude)\n",
    "tags = Counter(itertools.chain.from_iterable(df.tags.values))"
   ]
  },
  {
   "cell_type": "code",
   "execution_count": 10,
   "metadata": {
    "tags": [
     "hide-input"
    ]
   },
   "outputs": [
    {
     "data": {
      "application/vnd.jupyter.widget-view+json": {
       "model_id": "106c1fda793647ffaca830d410bc4bb1",
       "version_major": 2,
       "version_minor": 0
      },
      "text/plain": [
       "interactive(children=(IntSlider(value=30, description='min_tag_freq', max=258), Output()), _dom_classes=('widg…"
      ]
     },
     "metadata": {},
     "output_type": "display_data"
    }
   ],
   "source": [
    "@widgets.interact(min_tag_freq=(0, tags.most_common()[0][1]))\n",
    "def separate_tags_by_freq(min_tag_freq=30):\n",
    "    tags_above_freq = Counter(tag for tag in tags.elements()\n",
    "                                    if tags[tag] >= min_tag_freq)\n",
    "    tags_below_freq = Counter(tag for tag in tags.elements()\n",
    "                                    if tags[tag] < min_tag_freq)\n",
    "    print (\"Most popular tags:\\n\", tags_above_freq.most_common(5))\n",
    "    print (\"\\nTags that just made the cut:\\n\", tags_above_freq.most_common()[-5:])\n",
    "    print (\"\\nTags that just missed the cut:\\n\", tags_below_freq.most_common(5))"
   ]
  },
  {
   "cell_type": "code",
   "execution_count": 11,
   "metadata": {},
   "outputs": [],
   "source": [
    "# Filter tags that have fewer than <min_tag_freq> occurances\n",
    "min_tag_freq = 30\n",
    "tags_above_freq = Counter(tag for tag in tags.elements() \n",
    "                          if tags[tag] >= min_tag_freq)\n",
    "df.tags = df.tags.apply(filter, include=list(tags_above_freq.keys()))"
   ]
  },
  {
   "cell_type": "code",
   "execution_count": 12,
   "metadata": {},
   "outputs": [
    {
     "name": "stdout",
     "output_type": "stream",
     "text": [
      "1239 projects\n"
     ]
    }
   ],
   "source": [
    "# Remove projects with no more remaining relevant tags\n",
    "df = df[df.tags.map(len) > 0]\n",
    "print (f\"{len(df)} projects\")"
   ]
  },
  {
   "cell_type": "markdown",
   "metadata": {},
   "source": [
    "## Exploratory Data Analysis (EDA)"
   ]
  },
  {
   "cell_type": "code",
   "execution_count": 13,
   "metadata": {},
   "outputs": [],
   "source": [
    "import matplotlib.pyplot as plt\n",
    "import seaborn as sns\n",
    "import warnings\n",
    "from wordcloud import WordCloud, STOPWORDS\n",
    "warnings.filterwarnings(\"ignore\")"
   ]
  },
  {
   "cell_type": "code",
   "execution_count": 14,
   "metadata": {},
   "outputs": [
    {
     "data": {
      "image/png": "[encoded data removed]",
      "text/plain": [
       "<Figure size 720x216 with 1 Axes>"
      ]
     },
     "metadata": {
      "needs_background": "light"
     },
     "output_type": "display_data"
    }
   ],
   "source": [
    "# Number of tags per project\n",
    "num_tags_per_project = [len(tags) for tags in df.tags]\n",
    "num_tags, num_projects = zip(*Counter(num_tags_per_project).items())\n",
    "plt.figure(figsize=(10, 3))\n",
    "ax = sns.barplot(list(num_tags), list(num_projects))\n",
    "plt.title(\"Tags per project\", fontsize=20)\n",
    "plt.xlabel(\"Number of tags\", fontsize=16)\n",
    "ax.set_xticklabels(range(1, len(num_tags)+1), rotation=0, fontsize=16)\n",
    "plt.ylabel(\"Number of projects\", fontsize=16)\n",
    "plt.show()"
   ]
  },
  {
   "cell_type": "code",
   "execution_count": 15,
   "metadata": {},
   "outputs": [
    {
     "data": {
      "image/png": "[encoded data removed]",
      "text/plain": [
       "<Figure size 1800x360 with 1 Axes>"
      ]
     },
     "metadata": {
      "needs_background": "light"
     },
     "output_type": "display_data"
    }
   ],
   "source": [
    "# Distribution of tags\n",
    "all_tags = list(itertools.chain.from_iterable(df.tags.values))\n",
    "tags, tag_counts = zip(*Counter(all_tags).most_common())\n",
    "plt.figure(figsize=(25, 5))\n",
    "ax = sns.barplot(list(tags), list(tag_counts))\n",
    "plt.title(\"Tag distribution\", fontsize=20)\n",
    "plt.xlabel(\"Tag\", fontsize=16)\n",
    "ax.set_xticklabels(tags, rotation=90, fontsize=14)\n",
    "plt.ylabel(\"Number of projects\", fontsize=16)\n",
    "plt.show()"
   ]
  },
  {
   "cell_type": "code",
   "execution_count": 16,
   "metadata": {},
   "outputs": [
    {
     "data": {
      "application/vnd.jupyter.widget-view+json": {
       "model_id": "2d78701e1ab04e588327a983acb6d924",
       "version_major": 2,
       "version_minor": 0
      },
      "text/plain": [
       "interactive(children=(Dropdown(description='tag', options=('pytorch', 'tensorflow', 'transformers', 'attention…"
      ]
     },
     "metadata": {},
     "output_type": "display_data"
    }
   ],
   "source": [
    "@widgets.interact(tag=list(tags))\n",
    "def display_word_cloud(tag='pytorch'):\n",
    "    # Plot word clouds top top tags\n",
    "    plt.figure(figsize=(15, 5))\n",
    "    subset = df[df.tags.apply(lambda tags: tag in tags)]\n",
    "    text = subset.text.values\n",
    "    cloud = WordCloud(\n",
    "        stopwords=STOPWORDS, background_color='black', collocations=False,\n",
    "        width=500, height=300).generate(\" \".join(text))\n",
    "    plt.axis('off')\n",
    "    plt.imshow(cloud)"
   ]
  },
  {
   "cell_type": "markdown",
   "metadata": {},
   "source": [
    "## Encoding"
   ]
  },
  {
   "cell_type": "code",
   "execution_count": 17,
   "metadata": {},
   "outputs": [],
   "source": [
    "import numpy as np\n",
    "import random"
   ]
  },
  {
   "cell_type": "code",
   "execution_count": 18,
   "metadata": {},
   "outputs": [],
   "source": [
    "# Set seeds for reproducability\n",
    "seed = 1234\n",
    "np.random.seed(seed)\n",
    "random.seed(seed)"
   ]
  },
  {
   "cell_type": "code",
   "execution_count": 19,
   "metadata": {},
   "outputs": [],
   "source": [
    "# Shuffle\n",
    "df = df.sample(frac=1).reset_index(drop=True)"
   ]
  },
  {
   "cell_type": "code",
   "execution_count": 20,
   "metadata": {},
   "outputs": [],
   "source": [
    "# Get data\n",
    "X = df.text.to_numpy()\n",
    "y = df.tags"
   ]
  },
  {
   "cell_type": "code",
   "execution_count": 21,
   "metadata": {},
   "outputs": [
    {
     "data": {
      "text/plain": [
       "(array(['Haystack — Neural Question Answering At Scale Scaling Question Answering models to find answers in large document stores via retriever and reader approach.',\n",
       "        'Interpretable Machine Learning A guide for making black box models explainable.',\n",
       "        'ONNX Transformers Accelerated NLP pipelines for fast inference 🚀 on CPU. Built with 🤗 Transformers and ONNX runtime.',\n",
       "        ...,\n",
       "        'Attention? Attention! In this post, we are gonna look into how attention was invented, and various attention mechanisms and models, such as transformer and SNAIL.',\n",
       "        'Time Series Forecasting with TensorFlow.js Machine learning is becoming increasingly popular these days and a growing number of the world’s population see it is as a magic crystal ball: predicting when a',\n",
       "        'Digit Classification of MNIST Dataset using Tensorflow Lite Created an Android App which classifies and reconizes digit of MNIST dataset using Tensorflow-Lite and Keras.Trained the model on Laptop and deployed it on the '],\n",
       "       dtype=object),\n",
       " 0                                    [question-answering]\n",
       " 1                                      [interpretability]\n",
       " 2                                          [transformers]\n",
       " 3                                               [pytorch]\n",
       " 4                    [flask, keras, image-classification]\n",
       "                               ...                        \n",
       " 1234                     [object-detection, segmentation]\n",
       " 1235    [embeddings, graph-neural-networks, graphs, no...\n",
       " 1236                [tensorflow, attention, transformers]\n",
       " 1237             [tensorflow, tensorflow-js, time-series]\n",
       " 1238                                  [keras, tensorflow]\n",
       " Name: tags, Length: 1239, dtype: object)"
      ]
     },
     "execution_count": 21,
     "metadata": {},
     "output_type": "execute_result"
    }
   ],
   "source": [
    "X, y"
   ]
  },
  {
   "cell_type": "markdown",
   "metadata": {},
   "source": [
    "We'll be writing our own LabelEncoder which is based on scikit-learn's [implementation](https://scikit-learn.org/stable/modules/generated/sklearn.preprocessing.LabelEncoder.html). "
   ]
  },
  {
   "cell_type": "code",
   "execution_count": 22,
   "metadata": {},
   "outputs": [],
   "source": [
    "class LabelEncoder(object):\n",
    "    \"\"\"Label encoder for tag labels.\"\"\"\n",
    "    def __init__(self, class_to_index={}):\n",
    "        self.class_to_index = class_to_index\n",
    "        self.index_to_class = {v: k for k, v in self.class_to_index.items()}\n",
    "        self.classes = list(self.class_to_index.keys())\n",
    "\n",
    "    def __len__(self):\n",
    "        return len(self.class_to_index)\n",
    "\n",
    "    def __str__(self):\n",
    "        return f\"<LabelEncoder(num_classes={len(self)})>\"\n",
    "\n",
    "    def fit(self, y):\n",
    "        classes = np.unique(list(itertools.chain.from_iterable(y)))\n",
    "        for i, class_ in enumerate(classes):\n",
    "            self.class_to_index[class_] = i\n",
    "        self.index_to_class = {v: k for k, v in self.class_to_index.items()}\n",
    "        self.classes = list(self.class_to_index.keys())\n",
    "        return self\n",
    "\n",
    "    def transform(self, y):\n",
    "        y_one_hot = np.zeros((len(y), len(self.class_to_index)), dtype=int)\n",
    "        for i, item in enumerate(y):\n",
    "            for class_ in item:\n",
    "                y_one_hot[i][self.class_to_index[class_]] = 1\n",
    "        return y_one_hot\n",
    "\n",
    "    def inverse_transform(self, y):\n",
    "        classes = []\n",
    "        for i, item in enumerate(y):\n",
    "            indices = np.where(item == 1)[0]\n",
    "            classes.append([self.index_to_class[index] for index in indices])\n",
    "        return classes\n",
    "\n",
    "    def save(self, fp):\n",
    "        with open(fp, 'w') as fp:\n",
    "            contents = {'class_to_index': self.class_to_index}\n",
    "            json.dump(contents, fp, indent=4, sort_keys=False)\n",
    "\n",
    "    @classmethod\n",
    "    def load(cls, fp):\n",
    "        with open(fp, 'r') as fp:\n",
    "            kwargs = json.load(fp=fp)\n",
    "        return cls(**kwargs)"
   ]
  },
  {
   "cell_type": "code",
   "execution_count": 23,
   "metadata": {},
   "outputs": [
    {
     "data": {
      "text/plain": [
       "<__main__.LabelEncoder at 0x128872880>"
      ]
     },
     "execution_count": 23,
     "metadata": {},
     "output_type": "execute_result"
    }
   ],
   "source": [
    "# Binarize y\n",
    "label_encoder = LabelEncoder()\n",
    "label_encoder.fit(y)"
   ]
  },
  {
   "cell_type": "code",
   "execution_count": 24,
   "metadata": {},
   "outputs": [
    {
     "data": {
      "text/plain": [
       "{'attention': 0,\n",
       " 'autoencoders': 1,\n",
       " 'convolutional-neural-networks': 2,\n",
       " 'data-augmentation': 3,\n",
       " 'embeddings': 4,\n",
       " 'flask': 5,\n",
       " 'generative-adversarial-networks': 6,\n",
       " 'graph-neural-networks': 7,\n",
       " 'graphs': 8,\n",
       " 'huggingface': 9,\n",
       " 'image-classification': 10,\n",
       " 'interpretability': 11,\n",
       " 'keras': 12,\n",
       " 'language-modeling': 13,\n",
       " 'node-classification': 14,\n",
       " 'object-detection': 15,\n",
       " 'pretraining': 16,\n",
       " 'production': 17,\n",
       " 'pytorch': 18,\n",
       " 'question-answering': 19,\n",
       " 'regression': 20,\n",
       " 'reinforcement-learning': 21,\n",
       " 'representation-learning': 22,\n",
       " 'scikit-learn': 23,\n",
       " 'segmentation': 24,\n",
       " 'self-supervised-learning': 25,\n",
       " 'tensorflow': 26,\n",
       " 'tensorflow-js': 27,\n",
       " 'time-series': 28,\n",
       " 'transfer-learning': 29,\n",
       " 'transformers': 30,\n",
       " 'unsupervised-learning': 31,\n",
       " 'wandb': 32}"
      ]
     },
     "execution_count": 24,
     "metadata": {},
     "output_type": "execute_result"
    }
   ],
   "source": [
    "label_encoder.class_to_index"
   ]
  },
  {
   "cell_type": "code",
   "execution_count": 25,
   "metadata": {},
   "outputs": [
    {
     "data": {
      "text/plain": [
       "array([[1, 0, 0, 1, 0, 0, 0, 0, 0, 0, 0, 0, 0, 0, 0, 0, 0, 0, 0, 0, 0, 0,\n",
       "        0, 0, 0, 0, 0, 0, 0, 0, 0, 0, 0]])"
      ]
     },
     "execution_count": 25,
     "metadata": {},
     "output_type": "execute_result"
    }
   ],
   "source": [
    "label_encoder.transform([[\"attention\", \"data-augmentation\"]])"
   ]
  },
  {
   "cell_type": "code",
   "execution_count": 26,
   "metadata": {},
   "outputs": [],
   "source": [
    "y = label_encoder.transform(y)"
   ]
  },
  {
   "cell_type": "markdown",
   "metadata": {},
   "source": [
    "## Splitting"
   ]
  },
  {
   "cell_type": "markdown",
   "metadata": {},
   "source": [
    "**Naive split**"
   ]
  },
  {
   "cell_type": "code",
   "execution_count": 27,
   "metadata": {},
   "outputs": [],
   "source": [
    "from sklearn.model_selection import train_test_split\n",
    "from skmultilearn.model_selection.measures import get_combination_wise_output_matrix"
   ]
  },
  {
   "cell_type": "code",
   "execution_count": 28,
   "metadata": {},
   "outputs": [],
   "source": [
    "# Split sizes\n",
    "train_size = 0.7\n",
    "val_size = 0.15\n",
    "test_size = 0.15"
   ]
  },
  {
   "cell_type": "markdown",
   "metadata": {},
   "source": [
    "For simple multiclass classification, you can specify how to stratify the split by adding the [**stratify**](https://scikit-learn.org/stable/modules/generated/sklearn.model_selection.train_test_split.html) keyword argument. But our task is multilabel classification, so we'll need to use other techniques to create even splits."
   ]
  },
  {
   "cell_type": "code",
   "execution_count": 29,
   "metadata": {},
   "outputs": [],
   "source": [
    "# Split (train)\n",
    "X_train, X_, y_train, y_ = train_test_split(X, y, train_size=train_size)"
   ]
  },
  {
   "cell_type": "code",
   "execution_count": 30,
   "metadata": {},
   "outputs": [
    {
     "name": "stdout",
     "output_type": "stream",
     "text": [
      "train: 867 (0.70)\n",
      "remaining: 372 (0.30)\n"
     ]
    }
   ],
   "source": [
    "print (f\"train: {len(X_train)} ({(len(X_train) / len(X)):.2f})\\n\"\n",
    "       f\"remaining: {len(X_)} ({(len(X_) / len(X)):.2f})\")"
   ]
  },
  {
   "cell_type": "code",
   "execution_count": 31,
   "metadata": {},
   "outputs": [],
   "source": [
    "# Split (test)\n",
    "X_val, X_test, y_val, y_test = train_test_split(\n",
    "    X_, y_, train_size=0.5)"
   ]
  },
  {
   "cell_type": "code",
   "execution_count": 32,
   "metadata": {},
   "outputs": [
    {
     "name": "stdout",
     "output_type": "stream",
     "text": [
      "train: 867 (0.70)\n",
      "val: 186 (0.15)\n",
      "test: 186 (0.15)\n"
     ]
    }
   ],
   "source": [
    "print(f\"train: {len(X_train)} ({len(X_train)/len(X):.2f})\\n\"\n",
    "      f\"val: {len(X_val)} ({len(X_val)/len(X):.2f})\\n\"\n",
    "      f\"test: {len(X_test)} ({len(X_test)/len(X):.2f})\")"
   ]
  },
  {
   "cell_type": "code",
   "execution_count": 33,
   "metadata": {},
   "outputs": [],
   "source": [
    "# Get counts for each class\n",
    "counts = {}\n",
    "counts['train_counts'] = Counter(str(combination) for row in get_combination_wise_output_matrix(\n",
    "    y_train, order=1) for combination in row)\n",
    "counts['val_counts'] = Counter(str(combination) for row in get_combination_wise_output_matrix(\n",
    "    y_val, order=1) for combination in row)\n",
    "counts['test_counts'] = Counter(str(combination) for row in get_combination_wise_output_matrix(\n",
    "    y_test, order=1) for combination in row)"
   ]
  },
  {
   "cell_type": "code",
   "execution_count": 34,
   "metadata": {},
   "outputs": [
    {
     "data": {
      "text/html": [
       "<div>\n",
       "<style scoped>\n",
       "    .dataframe tbody tr th:only-of-type {\n",
       "        vertical-align: middle;\n",
       "    }\n",
       "\n",
       "    .dataframe tbody tr th {\n",
       "        vertical-align: top;\n",
       "    }\n",
       "\n",
       "    .dataframe thead th {\n",
       "        text-align: right;\n",
       "    }\n",
       "</style>\n",
       "<table border=\"1\" class=\"dataframe\">\n",
       "  <thead>\n",
       "    <tr style=\"text-align: right;\">\n",
       "      <th></th>\n",
       "      <th>(18,)</th>\n",
       "      <th>(15,)</th>\n",
       "      <th>(0,)</th>\n",
       "      <th>(30,)</th>\n",
       "      <th>(26,)</th>\n",
       "      <th>(5,)</th>\n",
       "      <th>(20,)</th>\n",
       "      <th>(1,)</th>\n",
       "      <th>(22,)</th>\n",
       "      <th>(12,)</th>\n",
       "      <th>...</th>\n",
       "      <th>(21,)</th>\n",
       "      <th>(23,)</th>\n",
       "      <th>(31,)</th>\n",
       "      <th>(8,)</th>\n",
       "      <th>(14,)</th>\n",
       "      <th>(29,)</th>\n",
       "      <th>(32,)</th>\n",
       "      <th>(16,)</th>\n",
       "      <th>(7,)</th>\n",
       "      <th>(19,)</th>\n",
       "    </tr>\n",
       "  </thead>\n",
       "  <tbody>\n",
       "    <tr>\n",
       "      <th>train</th>\n",
       "      <td>188</td>\n",
       "      <td>48</td>\n",
       "      <td>90</td>\n",
       "      <td>139</td>\n",
       "      <td>149</td>\n",
       "      <td>19</td>\n",
       "      <td>35</td>\n",
       "      <td>25</td>\n",
       "      <td>42</td>\n",
       "      <td>63</td>\n",
       "      <td>...</td>\n",
       "      <td>41</td>\n",
       "      <td>39</td>\n",
       "      <td>23</td>\n",
       "      <td>58</td>\n",
       "      <td>25</td>\n",
       "      <td>24</td>\n",
       "      <td>24</td>\n",
       "      <td>22</td>\n",
       "      <td>41</td>\n",
       "      <td>20</td>\n",
       "    </tr>\n",
       "    <tr>\n",
       "      <th>val</th>\n",
       "      <td>30</td>\n",
       "      <td>14</td>\n",
       "      <td>17</td>\n",
       "      <td>31</td>\n",
       "      <td>31</td>\n",
       "      <td>7</td>\n",
       "      <td>5</td>\n",
       "      <td>9</td>\n",
       "      <td>5</td>\n",
       "      <td>10</td>\n",
       "      <td>...</td>\n",
       "      <td>8</td>\n",
       "      <td>9</td>\n",
       "      <td>11</td>\n",
       "      <td>11</td>\n",
       "      <td>4</td>\n",
       "      <td>12</td>\n",
       "      <td>7</td>\n",
       "      <td>7</td>\n",
       "      <td>5</td>\n",
       "      <td>6</td>\n",
       "    </tr>\n",
       "    <tr>\n",
       "      <th>test</th>\n",
       "      <td>40</td>\n",
       "      <td>7</td>\n",
       "      <td>13</td>\n",
       "      <td>26</td>\n",
       "      <td>33</td>\n",
       "      <td>8</td>\n",
       "      <td>9</td>\n",
       "      <td>7</td>\n",
       "      <td>10</td>\n",
       "      <td>20</td>\n",
       "      <td>...</td>\n",
       "      <td>10</td>\n",
       "      <td>12</td>\n",
       "      <td>5</td>\n",
       "      <td>9</td>\n",
       "      <td>4</td>\n",
       "      <td>10</td>\n",
       "      <td>8</td>\n",
       "      <td>1</td>\n",
       "      <td>5</td>\n",
       "      <td>6</td>\n",
       "    </tr>\n",
       "  </tbody>\n",
       "</table>\n",
       "<p>3 rows × 33 columns</p>\n",
       "</div>"
      ],
      "text/plain": [
       "       (18,)  (15,)  (0,)  (30,)  (26,)  (5,)  (20,)  (1,)  (22,)  (12,)  ...  \\\n",
       "train    188     48    90    139    149    19     35    25     42     63  ...   \n",
       "val       30     14    17     31     31     7      5     9      5     10  ...   \n",
       "test      40      7    13     26     33     8      9     7     10     20  ...   \n",
       "\n",
       "       (21,)  (23,)  (31,)  (8,)  (14,)  (29,)  (32,)  (16,)  (7,)  (19,)  \n",
       "train     41     39     23    58     25     24     24     22    41     20  \n",
       "val        8      9     11    11      4     12      7      7     5      6  \n",
       "test      10     12      5     9      4     10      8      1     5      6  \n",
       "\n",
       "[3 rows x 33 columns]"
      ]
     },
     "execution_count": 34,
     "metadata": {},
     "output_type": "execute_result"
    }
   ],
   "source": [
    "# View distributions\n",
    "pd.DataFrame({\n",
    "    'train': counts['train_counts'],\n",
    "    'val': counts['val_counts'],\n",
    "    'test': counts['test_counts']\n",
    "}).T.fillna(0)"
   ]
  },
  {
   "cell_type": "markdown",
   "metadata": {},
   "source": [
    "It's hard to compare these because our train and test proportions are different. Let's see what the distribution looks like once we balance it out. What do we need to multiply our test ratio by so that we have the same amount as our train ratio?\n",
    "\n",
    "$\\alpha * \\text{test_size} = \\text{train_size}$\n",
    "\n",
    "$\\alpha = \\frac{\\text{train_size}}{\\text{test_size}}$"
   ]
  },
  {
   "cell_type": "code",
   "execution_count": 35,
   "metadata": {},
   "outputs": [],
   "source": [
    "# Adjust counts across splits\n",
    "for k in counts['val_counts'].keys():\n",
    "    counts['val_counts'][k] = int(counts['val_counts'][k] * \\\n",
    "        (train_size/val_size))\n",
    "for k in counts['test_counts'].keys():\n",
    "    counts['test_counts'][k] = int(counts['test_counts'][k] * \\\n",
    "        (train_size/test_size))"
   ]
  },
  {
   "cell_type": "code",
   "execution_count": 36,
   "metadata": {},
   "outputs": [
    {
     "data": {
      "text/html": [
       "<div>\n",
       "<style scoped>\n",
       "    .dataframe tbody tr th:only-of-type {\n",
       "        vertical-align: middle;\n",
       "    }\n",
       "\n",
       "    .dataframe tbody tr th {\n",
       "        vertical-align: top;\n",
       "    }\n",
       "\n",
       "    .dataframe thead th {\n",
       "        text-align: right;\n",
       "    }\n",
       "</style>\n",
       "<table border=\"1\" class=\"dataframe\">\n",
       "  <thead>\n",
       "    <tr style=\"text-align: right;\">\n",
       "      <th></th>\n",
       "      <th>(18,)</th>\n",
       "      <th>(15,)</th>\n",
       "      <th>(0,)</th>\n",
       "      <th>(30,)</th>\n",
       "      <th>(26,)</th>\n",
       "      <th>(5,)</th>\n",
       "      <th>(20,)</th>\n",
       "      <th>(1,)</th>\n",
       "      <th>(22,)</th>\n",
       "      <th>(12,)</th>\n",
       "      <th>...</th>\n",
       "      <th>(21,)</th>\n",
       "      <th>(23,)</th>\n",
       "      <th>(31,)</th>\n",
       "      <th>(8,)</th>\n",
       "      <th>(14,)</th>\n",
       "      <th>(29,)</th>\n",
       "      <th>(32,)</th>\n",
       "      <th>(16,)</th>\n",
       "      <th>(7,)</th>\n",
       "      <th>(19,)</th>\n",
       "    </tr>\n",
       "  </thead>\n",
       "  <tbody>\n",
       "    <tr>\n",
       "      <th>train</th>\n",
       "      <td>188</td>\n",
       "      <td>48</td>\n",
       "      <td>90</td>\n",
       "      <td>139</td>\n",
       "      <td>149</td>\n",
       "      <td>19</td>\n",
       "      <td>35</td>\n",
       "      <td>25</td>\n",
       "      <td>42</td>\n",
       "      <td>63</td>\n",
       "      <td>...</td>\n",
       "      <td>41</td>\n",
       "      <td>39</td>\n",
       "      <td>23</td>\n",
       "      <td>58</td>\n",
       "      <td>25</td>\n",
       "      <td>24</td>\n",
       "      <td>24</td>\n",
       "      <td>22</td>\n",
       "      <td>41</td>\n",
       "      <td>20</td>\n",
       "    </tr>\n",
       "    <tr>\n",
       "      <th>val</th>\n",
       "      <td>140</td>\n",
       "      <td>65</td>\n",
       "      <td>79</td>\n",
       "      <td>144</td>\n",
       "      <td>144</td>\n",
       "      <td>32</td>\n",
       "      <td>23</td>\n",
       "      <td>42</td>\n",
       "      <td>23</td>\n",
       "      <td>46</td>\n",
       "      <td>...</td>\n",
       "      <td>37</td>\n",
       "      <td>42</td>\n",
       "      <td>51</td>\n",
       "      <td>51</td>\n",
       "      <td>18</td>\n",
       "      <td>56</td>\n",
       "      <td>32</td>\n",
       "      <td>32</td>\n",
       "      <td>23</td>\n",
       "      <td>28</td>\n",
       "    </tr>\n",
       "    <tr>\n",
       "      <th>test</th>\n",
       "      <td>186</td>\n",
       "      <td>32</td>\n",
       "      <td>60</td>\n",
       "      <td>121</td>\n",
       "      <td>154</td>\n",
       "      <td>37</td>\n",
       "      <td>42</td>\n",
       "      <td>32</td>\n",
       "      <td>46</td>\n",
       "      <td>93</td>\n",
       "      <td>...</td>\n",
       "      <td>46</td>\n",
       "      <td>56</td>\n",
       "      <td>23</td>\n",
       "      <td>42</td>\n",
       "      <td>18</td>\n",
       "      <td>46</td>\n",
       "      <td>37</td>\n",
       "      <td>4</td>\n",
       "      <td>23</td>\n",
       "      <td>28</td>\n",
       "    </tr>\n",
       "  </tbody>\n",
       "</table>\n",
       "<p>3 rows × 33 columns</p>\n",
       "</div>"
      ],
      "text/plain": [
       "       (18,)  (15,)  (0,)  (30,)  (26,)  (5,)  (20,)  (1,)  (22,)  (12,)  ...  \\\n",
       "train    188     48    90    139    149    19     35    25     42     63  ...   \n",
       "val      140     65    79    144    144    32     23    42     23     46  ...   \n",
       "test     186     32    60    121    154    37     42    32     46     93  ...   \n",
       "\n",
       "       (21,)  (23,)  (31,)  (8,)  (14,)  (29,)  (32,)  (16,)  (7,)  (19,)  \n",
       "train     41     39     23    58     25     24     24     22    41     20  \n",
       "val       37     42     51    51     18     56     32     32    23     28  \n",
       "test      46     56     23    42     18     46     37      4    23     28  \n",
       "\n",
       "[3 rows x 33 columns]"
      ]
     },
     "execution_count": 36,
     "metadata": {},
     "output_type": "execute_result"
    }
   ],
   "source": [
    "dist_df = pd.DataFrame({\n",
    "    'train': counts['train_counts'],\n",
    "    'val': counts['val_counts'],\n",
    "    'test': counts['test_counts']\n",
    "}).T.fillna(0)\n",
    "dist_df"
   ]
  },
  {
   "cell_type": "markdown",
   "metadata": {},
   "source": [
    "$\\sigma = \\sqrt{\\frac{(x - \\bar{x})^2}{N}}$"
   ]
  },
  {
   "cell_type": "code",
   "execution_count": 37,
   "metadata": {},
   "outputs": [
    {
     "data": {
      "text/plain": [
       "8.277164215186884"
      ]
     },
     "execution_count": 37,
     "metadata": {},
     "output_type": "execute_result"
    }
   ],
   "source": [
    "# Standard deviation\n",
    "np.mean(np.std(dist_df.to_numpy(), axis=0))"
   ]
  },
  {
   "cell_type": "markdown",
   "metadata": {},
   "source": [
    "Some of these distributions are not great. Let's try and balance this out a bit better."
   ]
  },
  {
   "cell_type": "markdown",
   "metadata": {},
   "source": [
    "**Stratified split**"
   ]
  },
  {
   "cell_type": "code",
   "execution_count": 38,
   "metadata": {},
   "outputs": [],
   "source": [
    "from skmultilearn.model_selection import IterativeStratification"
   ]
  },
  {
   "cell_type": "markdown",
   "metadata": {},
   "source": [
    "[Iterative stratification](http://scikit.ml/_modules/skmultilearn/model_selection/iterative_stratification.html#IterativeStratification) essentially creates splits while \"trying to maintain balanced representation with respect to order-th label combinations\". We used to an **order=1** for our iterative split which means we cared about providing representative distribution of each tag across the splits. You should experiment with other order values to see the split distributions especially if it's important that certain combinations of labels are important."
   ]
  },
  {
   "cell_type": "code",
   "execution_count": 39,
   "metadata": {},
   "outputs": [],
   "source": [
    "def iterative_train_test_split(X, y, train_size):\n",
    "    \"\"\"Custom iterative train test split which \n",
    "    'maintains balanced representation with respect \n",
    "    to order-th label combinations.'\n",
    "    \"\"\"\n",
    "    stratifier = IterativeStratification(\n",
    "        n_splits=2, order=1, sample_distribution_per_fold=[1.0-train_size, train_size, ])\n",
    "    train_indices, test_indices = next(stratifier.split(X, y))\n",
    "    X_train, y_train = X[train_indices], y[train_indices]\n",
    "    X_test, y_test = X[test_indices], y[test_indices]\n",
    "    return X_train, X_test, y_train, y_test"
   ]
  },
  {
   "cell_type": "code",
   "execution_count": 40,
   "metadata": {},
   "outputs": [],
   "source": [
    "# Get data\n",
    "X = df.text.to_numpy()\n",
    "y = df.tags"
   ]
  },
  {
   "cell_type": "code",
   "execution_count": 41,
   "metadata": {},
   "outputs": [],
   "source": [
    "# Binarize y\n",
    "label_encoder = LabelEncoder()\n",
    "label_encoder.fit(y)\n",
    "y = label_encoder.transform(y)"
   ]
  },
  {
   "cell_type": "code",
   "execution_count": 42,
   "metadata": {},
   "outputs": [],
   "source": [
    "# Split\n",
    "X_train, X_, y_train, y_ = iterative_train_test_split(\n",
    "    X, y, train_size=train_size)\n",
    "X_val, X_test, y_val, y_test = iterative_train_test_split(\n",
    "    X_, y_, train_size=0.5)"
   ]
  },
  {
   "cell_type": "code",
   "execution_count": 43,
   "metadata": {},
   "outputs": [
    {
     "name": "stdout",
     "output_type": "stream",
     "text": [
      "train: 861 (0.69)\n",
      "val: 191 (0.15)\n",
      "test: 187 (0.15)\n"
     ]
    }
   ],
   "source": [
    "print(f\"train: {len(X_train)} ({len(X_train)/len(X):.2f})\\n\"\n",
    "      f\"val: {len(X_val)} ({len(X_val)/len(X):.2f})\\n\"\n",
    "      f\"test: {len(X_test)} ({len(X_test)/len(X):.2f})\")"
   ]
  },
  {
   "cell_type": "code",
   "execution_count": 44,
   "metadata": {},
   "outputs": [],
   "source": [
    "# Get counts for each class\n",
    "counts = {}\n",
    "counts['train_counts'] = Counter(str(combination) for row in get_combination_wise_output_matrix(\n",
    "    y_train, order=1) for combination in row)\n",
    "counts['val_counts'] = Counter(str(combination) for row in get_combination_wise_output_matrix(\n",
    "    y_val, order=1) for combination in row)\n",
    "counts['test_counts'] = Counter(str(combination) for row in get_combination_wise_output_matrix(\n",
    "    y_test, order=1) for combination in row)"
   ]
  },
  {
   "cell_type": "code",
   "execution_count": 45,
   "metadata": {},
   "outputs": [],
   "source": [
    "# Adjust counts across splits\n",
    "for k in counts['val_counts'].keys():\n",
    "    counts['val_counts'][k] = int(counts['val_counts'][k] * \\\n",
    "        (train_size/val_size))\n",
    "for k in counts['test_counts'].keys():\n",
    "    counts['test_counts'][k] = int(counts['test_counts'][k] * \\\n",
    "        (train_size/test_size))"
   ]
  },
  {
   "cell_type": "code",
   "execution_count": 46,
   "metadata": {},
   "outputs": [
    {
     "data": {
      "text/html": [
       "<div>\n",
       "<style scoped>\n",
       "    .dataframe tbody tr th:only-of-type {\n",
       "        vertical-align: middle;\n",
       "    }\n",
       "\n",
       "    .dataframe tbody tr th {\n",
       "        vertical-align: top;\n",
       "    }\n",
       "\n",
       "    .dataframe thead th {\n",
       "        text-align: right;\n",
       "    }\n",
       "</style>\n",
       "<table border=\"1\" class=\"dataframe\">\n",
       "  <thead>\n",
       "    <tr style=\"text-align: right;\">\n",
       "      <th></th>\n",
       "      <th>(18,)</th>\n",
       "      <th>(12,)</th>\n",
       "      <th>(10,)</th>\n",
       "      <th>(5,)</th>\n",
       "      <th>(11,)</th>\n",
       "      <th>(25,)</th>\n",
       "      <th>(22,)</th>\n",
       "      <th>(29,)</th>\n",
       "      <th>(16,)</th>\n",
       "      <th>(19,)</th>\n",
       "      <th>...</th>\n",
       "      <th>(28,)</th>\n",
       "      <th>(15,)</th>\n",
       "      <th>(21,)</th>\n",
       "      <th>(32,)</th>\n",
       "      <th>(1,)</th>\n",
       "      <th>(4,)</th>\n",
       "      <th>(14,)</th>\n",
       "      <th>(9,)</th>\n",
       "      <th>(31,)</th>\n",
       "      <th>(27,)</th>\n",
       "    </tr>\n",
       "  </thead>\n",
       "  <tbody>\n",
       "    <tr>\n",
       "      <th>train</th>\n",
       "      <td>181</td>\n",
       "      <td>65</td>\n",
       "      <td>36</td>\n",
       "      <td>24</td>\n",
       "      <td>38</td>\n",
       "      <td>28</td>\n",
       "      <td>40</td>\n",
       "      <td>32</td>\n",
       "      <td>19</td>\n",
       "      <td>22</td>\n",
       "      <td>...</td>\n",
       "      <td>24</td>\n",
       "      <td>48</td>\n",
       "      <td>41</td>\n",
       "      <td>23</td>\n",
       "      <td>29</td>\n",
       "      <td>52</td>\n",
       "      <td>23</td>\n",
       "      <td>44</td>\n",
       "      <td>27</td>\n",
       "      <td>28</td>\n",
       "    </tr>\n",
       "    <tr>\n",
       "      <th>val</th>\n",
       "      <td>177</td>\n",
       "      <td>65</td>\n",
       "      <td>37</td>\n",
       "      <td>23</td>\n",
       "      <td>37</td>\n",
       "      <td>28</td>\n",
       "      <td>32</td>\n",
       "      <td>32</td>\n",
       "      <td>28</td>\n",
       "      <td>23</td>\n",
       "      <td>...</td>\n",
       "      <td>23</td>\n",
       "      <td>46</td>\n",
       "      <td>42</td>\n",
       "      <td>37</td>\n",
       "      <td>28</td>\n",
       "      <td>51</td>\n",
       "      <td>18</td>\n",
       "      <td>56</td>\n",
       "      <td>28</td>\n",
       "      <td>28</td>\n",
       "    </tr>\n",
       "    <tr>\n",
       "      <th>test</th>\n",
       "      <td>182</td>\n",
       "      <td>65</td>\n",
       "      <td>32</td>\n",
       "      <td>23</td>\n",
       "      <td>42</td>\n",
       "      <td>28</td>\n",
       "      <td>46</td>\n",
       "      <td>32</td>\n",
       "      <td>23</td>\n",
       "      <td>23</td>\n",
       "      <td>...</td>\n",
       "      <td>23</td>\n",
       "      <td>51</td>\n",
       "      <td>42</td>\n",
       "      <td>37</td>\n",
       "      <td>28</td>\n",
       "      <td>56</td>\n",
       "      <td>28</td>\n",
       "      <td>37</td>\n",
       "      <td>28</td>\n",
       "      <td>28</td>\n",
       "    </tr>\n",
       "  </tbody>\n",
       "</table>\n",
       "<p>3 rows × 33 columns</p>\n",
       "</div>"
      ],
      "text/plain": [
       "       (18,)  (12,)  (10,)  (5,)  (11,)  (25,)  (22,)  (29,)  (16,)  (19,)  \\\n",
       "train    181     65     36    24     38     28     40     32     19     22   \n",
       "val      177     65     37    23     37     28     32     32     28     23   \n",
       "test     182     65     32    23     42     28     46     32     23     23   \n",
       "\n",
       "       ...  (28,)  (15,)  (21,)  (32,)  (1,)  (4,)  (14,)  (9,)  (31,)  (27,)  \n",
       "train  ...     24     48     41     23    29    52     23    44     27     28  \n",
       "val    ...     23     46     42     37    28    51     18    56     28     28  \n",
       "test   ...     23     51     42     37    28    56     28    37     28     28  \n",
       "\n",
       "[3 rows x 33 columns]"
      ]
     },
     "execution_count": 46,
     "metadata": {},
     "output_type": "execute_result"
    }
   ],
   "source": [
    "# View distributions\n",
    "pd.DataFrame({\n",
    "    'train': counts['train_counts'],\n",
    "    'val': counts['val_counts'],\n",
    "    'test': counts['test_counts']\n",
    "}).T.fillna(0)"
   ]
  },
  {
   "cell_type": "code",
   "execution_count": 47,
   "metadata": {},
   "outputs": [],
   "source": [
    "dist_df = pd.DataFrame({\n",
    "    'train': counts['train_counts'],\n",
    "    'val': counts['val_counts'],\n",
    "    'test': counts['test_counts']\n",
    "}).T.fillna(0)"
   ]
  },
  {
   "cell_type": "code",
   "execution_count": 48,
   "metadata": {},
   "outputs": [
    {
     "data": {
      "text/plain": [
       "1.6858661049274655"
      ]
     },
     "execution_count": 48,
     "metadata": {},
     "output_type": "execute_result"
    }
   ],
   "source": [
    "# Standard deviation\n",
    "np.mean(np.std(dist_df.to_numpy(), axis=0))"
   ]
  },
  {
   "cell_type": "markdown",
   "metadata": {},
   "source": [
    "## Preprocessing"
   ]
  },
  {
   "cell_type": "markdown",
   "metadata": {},
   "source": [
    "Certain preprocessing steps are global (don't depend on our dataset) and others are local (constructs are learned from the training splits). For the local, dataset-dependent preprocessing steps, we want to ensure that we split the data first before preprocessing to avoid data leaks. \n",
    "\n",
    "We covered splitting first since many preprocessing transformations depend on the training split and our data splits were dependent only on the target labels (tags) which were already cleaned. However, you need to clean your data first before splitting, at least for the features that splitting depends on. So the process is more like: preprocessing (global, cleaning) → splitting → preprocessing (local, transformations)."
   ]
  },
  {
   "cell_type": "code",
   "execution_count": 49,
   "metadata": {},
   "outputs": [],
   "source": [
    "import nltk\n",
    "from nltk.corpus import stopwords\n",
    "from nltk.stem import PorterStemmer\n",
    "import re"
   ]
  },
  {
   "cell_type": "code",
   "execution_count": 50,
   "metadata": {},
   "outputs": [
    {
     "name": "stderr",
     "output_type": "stream",
     "text": [
      "[nltk_data] Downloading package stopwords to /Users/goku/nltk_data...\n",
      "[nltk_data]   Package stopwords is already up-to-date!\n"
     ]
    }
   ],
   "source": [
    "nltk.download('stopwords')\n",
    "STOPWORDS = stopwords.words('english')\n",
    "porter = PorterStemmer()"
   ]
  },
  {
   "cell_type": "code",
   "execution_count": 51,
   "metadata": {},
   "outputs": [],
   "source": [
    "def preprocess(text, lower, stem, filters, stopwords=STOPWORDS):\n",
    "    \"\"\"Conditional preprocessing on our text unique to our task.\"\"\"\n",
    "    # Lower\n",
    "    if lower: \n",
    "        text = text.lower()\n",
    "\n",
    "    # Remove stopwords\n",
    "    pattern = re.compile(r'\\b(' + r'|'.join(stopwords) + r')\\b\\s*')\n",
    "    text = pattern.sub('', text)\n",
    "\n",
    "    # Spacing and filters\n",
    "    text = re.sub(r\"([-;;.,!?<=>])\", r\" \\1 \", text)\n",
    "    text = re.sub(filters, r\"\", text)\n",
    "    text = re.sub(' +', ' ', text)  # remove multiple spaces\n",
    "    text = text.strip()\n",
    "\n",
    "    # Remove links\n",
    "    text = re.sub(r'http\\S+', '', text)\n",
    "\n",
    "    # Stemming\n",
    "    if stem:\n",
    "        text = \" \".join([porter.stem(word) for word in text.split(' ')])\n",
    "\n",
    "    return text"
   ]
  },
  {
   "cell_type": "code",
   "execution_count": 52,
   "metadata": {},
   "outputs": [
    {
     "data": {
      "application/vnd.jupyter.widget-view+json": {
       "model_id": "9c71b8a9871443068a087e92825318d7",
       "version_major": 2,
       "version_minor": 0
      },
      "text/plain": [
       "interactive(children=(Checkbox(value=True, description='lower'), Checkbox(value=False, description='stem'), Ou…"
      ]
     },
     "metadata": {},
     "output_type": "display_data"
    }
   ],
   "source": [
    "@widgets.interact(lower=True, stem=False)\n",
    "def display_preprocessed_text(lower, stem):\n",
    "    filters = \"[!\\\"'#$%&()*\\+,-./:;<=>?@\\\\\\[\\]^_`{|}~]\"\n",
    "    text = \"Conditional image generation using Variational Autoencoders and GANs.\"\n",
    "    preprocessed_text = preprocess(text=text, lower=lower, stem=stem, filters=filters)\n",
    "    print (preprocessed_text)    "
   ]
  },
  {
   "cell_type": "markdown",
   "metadata": {},
   "source": [
    "## Augmentation"
   ]
  },
  {
   "cell_type": "markdown",
   "metadata": {},
   "source": [
    "This is not used in this course so please feel free to skip this section. We'll cover data augmentation (CV, NLP, audio, etc.) as a separate unit course in the future."
   ]
  },
  {
   "cell_type": "code",
   "execution_count": 53,
   "metadata": {},
   "outputs": [
    {
     "name": "stdout",
     "output_type": "stream",
     "text": [
      "\u001b[33mWARNING: You are using pip version 20.1.1; however, version 20.2.4 is available.\n",
      "You should consider upgrading via the '/Users/goku/Documents/madewithml/courses/applied-ml-in-production/repo/venv/bin/python -m pip install --upgrade pip' command.\u001b[0m\n"
     ]
    }
   ],
   "source": [
    "!pip install nlpaug==1.1.0 torch==1.6.0 transformers==3.0.2 -q"
   ]
  },
  {
   "cell_type": "code",
   "execution_count": 54,
   "metadata": {},
   "outputs": [],
   "source": [
    "import nlpaug.augmenter.word as naw"
   ]
  },
  {
   "cell_type": "code",
   "execution_count": 55,
   "metadata": {},
   "outputs": [],
   "source": [
    "# Load tokenizers and transformers\n",
    "substitution = naw.ContextualWordEmbsAug(model_path='distilbert-base-uncased', action=\"substitute\")\n",
    "insertion = naw.ContextualWordEmbsAug(model_path='distilbert-base-uncased', action=\"insert\")"
   ]
  },
  {
   "cell_type": "code",
   "execution_count": 56,
   "metadata": {},
   "outputs": [],
   "source": [
    "text = \"Conditional image generation using Variational Autoencoders and GANs.\""
   ]
  },
  {
   "cell_type": "code",
   "execution_count": 57,
   "metadata": {},
   "outputs": [
    {
     "name": "stdout",
     "output_type": "stream",
     "text": [
      "temporal image generation using variational coordinates or loops.\n"
     ]
    }
   ],
   "source": [
    "# Substitutions\n",
    "augmented_text = substitution.augment(text)\n",
    "print (augmented_text)"
   ]
  },
  {
   "cell_type": "markdown",
   "metadata": {},
   "source": [
    "Substitution doesn't seem like a great idea for us because there are certain keywords that provide strong signal for our tags so we don't want to alter those. Also, note that these augmentations are NOT deterministic and will vary every time we run them. Let's try insertion..."
   ]
  },
  {
   "cell_type": "code",
   "execution_count": 59,
   "metadata": {},
   "outputs": [
    {
     "name": "stdout",
     "output_type": "stream",
     "text": [
      "performs conditional nonlinear image generation using variational autoencoders functions and linear gans.\n"
     ]
    }
   ],
   "source": [
    "# Insertions\n",
    "augmented_text = insertion.augment(text)\n",
    "print (augmented_text)"
   ]
  },
  {
   "cell_type": "markdown",
   "metadata": {},
   "source": [
    "A little better but still quite fragile and now it can potentially insert key words that can influence false positive tags to appear. For now, we'll skip the data augmentation because it's quite fickle and our case is very unique. But we can see how this can be very effective once we can control what type of vocabulary to augment on (ex. don't alter tokens matching or relating to any algorithms and tasks)."
   ]
  },
  {
   "cell_type": "code",
   "execution_count": null,
   "metadata": {},
   "outputs": [],
   "source": []
  }
 ],
 "metadata": {
  "kernelspec": {
   "display_name": "tagifai",
   "language": "python",
   "name": "tagifai"
  },
  "language_info": {
   "codemirror_mode": {
    "name": "ipython",
    "version": 3
   },
   "file_extension": ".py",
   "mimetype": "text/x-python",
   "name": "python",
   "nbconvert_exporter": "python",
   "pygments_lexer": "ipython3",
   "version": "3.8.5"
  },
  "toc-autonumbering": false,
  "toc-showmarkdowntxt": false
 },
 "nbformat": 4,
 "nbformat_minor": 4
}
